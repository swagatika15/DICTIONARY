{
 "cells": [
  {
   "cell_type": "code",
   "execution_count": 4,
   "metadata": {},
   "outputs": [
    {
     "name": "stdout",
     "output_type": "stream",
     "text": [
      "Enter Word: hi\n",
      "Meaning: (used as an exclamation of greeting); hello!\n",
      "More? (y/n):y\n",
      "Enter Word: what\n",
      "Meaning: (used interrogatively as a request for specific information): \n",
      "More? (y/n):y\n",
      "Enter Word: ghjkkhbch\n",
      "Meaning: please try again later\n",
      "More? (y/n):n\n"
     ]
    }
   ],
   "source": [
    "import speech_recognition as sr\n",
    "import pyttsx3 \n",
    "import time\n",
    "from os import path\n",
    "from selenium import webdriver\n",
    "from selenium.common.exceptions import TimeoutException\n",
    "from selenium.webdriver.common.by import By\n",
    "from selenium.webdriver.support.ui import WebDriverWait\n",
    "from selenium.webdriver.support import expected_conditions as EC\n",
    "from selenium.webdriver.chrome.options import Options\n",
    "\n",
    "engine = pyttsx3.init('sapi5') \n",
    "engine.say(\"Welcome to the Dictionary\") \n",
    "engine.runAndWait()\n",
    "\n",
    "chrome_options = Options()\n",
    "chrome_options.add_argument(\"--headless\")\n",
    "\n",
    "d = webdriver.Chrome(executable_path = \"/Users/swaga/Desktop/chromedriver\",options = chrome_options)\n",
    "wait = WebDriverWait(d, 10)\n",
    "\n",
    "d.get(\"https://www.dictionary.com/browse\")\n",
    "\n",
    "s = True\n",
    "mean_ = \"S\"\n",
    "word_ = \"S\"\n",
    "while(s == True):\n",
    "    word = input(\"Enter Word: \") \n",
    "    a = d.find_element_by_xpath('/html/body/div/div/div/div[1]/header/div/div/div/div/form/div[2]/input')\n",
    "    a.click()\n",
    "    a.send_keys(word)\n",
    "    a.submit()\n",
    "    try:\n",
    "        mean = (wait.until(EC.presence_of_element_located((By.CLASS_NAME, 'one-click-content'))).get_attribute(\"innerHTML\")).split(\"<\")[0] \n",
    "        if mean == mean_ and word != word_:\n",
    "            mean = \"please try again in 1 second\"\n",
    "    except:\n",
    "        mean = \"please try again later\"\n",
    "    d.find_element_by_xpath('/html/body/div/div/div/div[1]/header/div/div/div/div/form/div[2]/input').clear()\n",
    "    time.sleep(5)\n",
    "    mean_ = mean\n",
    "    word_ = word\n",
    "    print(\"Meaning: \" + mean)\n",
    "    engine.say(mean) \n",
    "    engine.runAndWait()   \n",
    "\n",
    "    more = input(\"More? (y/n):\")\n",
    "\n",
    "    if more ==\"Y\" or more ==\"y\" or more ==\"yes\":\n",
    "        s = True\n",
    "    else:\n",
    "        s = False\n"
   ]
  },
  {
   "cell_type": "code",
   "execution_count": null,
   "metadata": {},
   "outputs": [],
   "source": []
  }
 ],
 "metadata": {
  "kernelspec": {
   "display_name": "Python 3",
   "language": "python",
   "name": "python3"
  },
  "language_info": {
   "codemirror_mode": {
    "name": "ipython",
    "version": 3
   },
   "file_extension": ".py",
   "mimetype": "text/x-python",
   "name": "python",
   "nbconvert_exporter": "python",
   "pygments_lexer": "ipython3",
   "version": "3.7.3"
  }
 },
 "nbformat": 4,
 "nbformat_minor": 2
}
